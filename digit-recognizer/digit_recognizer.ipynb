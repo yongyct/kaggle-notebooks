{
 "cells": [
  {
   "cell_type": "markdown",
   "metadata": {},
   "source": [
    "# Digit Recognizer"
   ]
  },
  {
   "cell_type": "markdown",
   "metadata": {},
   "source": [
    "## Table of Contents <a id='toc'/>\n",
    "1. [Imports](#imports)\n",
    "2. [Configs](#configs)\n",
    "3. [Utils](#utils)\n",
    "4. [Data Preparation](#dataprep)\n",
    "5. [ML Workflow](#ml)\n",
    "  * [RandomForestClassifier](#rfc)\n",
    "  * [CNN](#cnn)\n",
    "6. [Side Analysis](#sideanalysis)"
   ]
  },
  {
   "cell_type": "markdown",
   "metadata": {},
   "source": [
    "## Imports <a id='imports'/>\n",
    "[Back to top](#toc)"
   ]
  },
  {
   "cell_type": "code",
   "execution_count": 123,
   "metadata": {},
   "outputs": [],
   "source": [
    "import numpy as np\n",
    "import pandas as pd\n",
    "import matplotlib.pyplot as plt\n",
    "\n",
    "from sklearn.model_selection import cross_val_score\n",
    "from sklearn.metrics import accuracy_score\n",
    "\n",
    "from sklearn.ensemble import RandomForestClassifier\n",
    "\n",
    "import keras\n",
    "from keras import Sequential\n",
    "from keras.layers import Conv2D, MaxPool2D, Dropout, Flatten, Dense\n",
    "from keras.layers.normalization import BatchNormalization\n",
    "from keras.optimizers import Adam\n",
    "from keras.losses import categorical_crossentropy"
   ]
  },
  {
   "cell_type": "markdown",
   "metadata": {},
   "source": [
    "## Configs / Constants <a id='configs'/>\n",
    "[Back to top](#toc)"
   ]
  },
  {
   "cell_type": "code",
   "execution_count": 104,
   "metadata": {},
   "outputs": [],
   "source": [
    "TRAIN_DATA_PATH = 'data/train.csv'\n",
    "TEST_DATA_PATH = 'data/test.csv'\n",
    "PREDICTION_DATA_PATH = 'data/submission.csv'\n",
    "\n",
    "LABEL = 'Label'\n",
    "IMAGE_ID = 'ImageId'\n",
    "IMAGE_N_DIMS = 28\n",
    "N_CLASSES = 10\n",
    "\n",
    "N_JOBS = 4\n",
    "N_TREES_RFC = 1000\n",
    "\n",
    "BATCH_SIZE = 64\n",
    "N_EPOCHS = 20\n",
    "INPUT_SHAPE = (IMAGE_N_DIMS, IMAGE_N_DIMS, 1)\n",
    "N_FILTERS_1 = 32\n",
    "N_FILTERS_2 = 64\n",
    "N_FILTERS_3 = 128\n",
    "KERNEL_SIZE_CONV = (3, 3)\n",
    "DROPOUT_1 = 0.2\n",
    "DROPOUT_2 = 0.25\n",
    "RELU = 'relu'\n",
    "SOFTMAX = 'softmax'\n",
    "KERNEL_INIT = 'he_normal'\n",
    "PADDING_SAME = 'same'\n",
    "POOL_SIZE = (2, 2)\n",
    "N_DENSE = 128\n",
    "\n",
    "CMAP_BIN = 'binary'"
   ]
  },
  {
   "cell_type": "markdown",
   "metadata": {},
   "source": [
    "## Utils Classes & Functions <a id='utils'/>\n",
    "[Back to top](#toc)"
   ]
  },
  {
   "cell_type": "code",
   "execution_count": 120,
   "metadata": {},
   "outputs": [],
   "source": [
    "### Predicting & saving output based on input X ###\n",
    "def predict_save(estimator, X):\n",
    "    if type(estimator) == keras.engine.sequential.Sequential:\n",
    "        Y_pred = estimator.predict_classes(X)\n",
    "    else:\n",
    "        Y_pred = estimator.predict(X)\n",
    "    Y_pred_df = pd.DataFrame(Y_pred, columns=[LABEL])\n",
    "    Y_pred_df[IMAGE_ID] = Y_pred_df.index + 1\n",
    "    Y_pred_df[[IMAGE_ID, LABEL]].to_csv(PREDICTION_DATA_PATH, index=False)\n",
    "    return Y_pred"
   ]
  },
  {
   "cell_type": "markdown",
   "metadata": {},
   "source": [
    "## Data Preparation <a id='dataprep'/>\n",
    "[Back to top](#toc)"
   ]
  },
  {
   "cell_type": "code",
   "execution_count": 2,
   "metadata": {},
   "outputs": [
    {
     "name": "stdout",
     "output_type": "stream",
     "text": [
      "Wall time: 4.79 s\n"
     ]
    }
   ],
   "source": [
    "%%time\n",
    "### Read data from source data files ###\n",
    "df = pd.read_csv(TRAIN_DATA_PATH)\n",
    "tdf = pd.read_csv(TEST_DATA_PATH)\n",
    "\n",
    "### Forming Xs & Ys ###\n",
    "X_train = df.iloc[:, 1:]\n",
    "Y_train = df.iloc[:, 0]\n",
    "X_test = tdf"
   ]
  },
  {
   "cell_type": "code",
   "execution_count": 89,
   "metadata": {},
   "outputs": [
    {
     "name": "stdout",
     "output_type": "stream",
     "text": [
      "(42000, 28, 28, 1)\n",
      "Wall time: 2.9 s\n"
     ]
    }
   ],
   "source": [
    "%%time\n",
    "### Normalizing data ###\n",
    "X_train_norm = X_train / 255\n",
    "X_test_norm = X_test / 255\n",
    "\n",
    "### Reshaping to CNN input layer ###\n",
    "X_train_cnn = X_train_norm.values.reshape(-1, *INPUT_SHAPE)\n",
    "X_test_cnn = X_test_norm.values.reshape(-1, *INPUT_SHAPE)\n",
    "\n",
    "### Transforming Y ###\n",
    "Y_train_cnn = keras.utils.to_categorical(Y_train, N_CLASSES)"
   ]
  },
  {
   "cell_type": "markdown",
   "metadata": {},
   "source": [
    "## Machine Learning Workflow <a id='ml'/>\n",
    "[Back to top](#toc)"
   ]
  },
  {
   "cell_type": "markdown",
   "metadata": {},
   "source": [
    "### RandomForestClassifier <a id='rfc'/>\n",
    "Kaggle Score: 0.96742"
   ]
  },
  {
   "cell_type": "code",
   "execution_count": 4,
   "metadata": {
    "scrolled": true
   },
   "outputs": [
    {
     "name": "stdout",
     "output_type": "stream",
     "text": [
      "Wall time: 1min 40s\n"
     ]
    }
   ],
   "source": [
    "%%time\n",
    "### RandomForestClassifier ###\n",
    "rfc = RandomForestClassifier(n_estimators=N_TREES_RFC, n_jobs=N_JOBS)\n",
    "rfc.fit(X_train, Y_train)\n",
    "Y_pred = predict_save(estimator=rfc, X=X_test)"
   ]
  },
  {
   "cell_type": "markdown",
   "metadata": {},
   "source": [
    "### Keras Model 1 <a id='cnn'/>\n",
    "Kaggle Score: 0.99400"
   ]
  },
  {
   "cell_type": "code",
   "execution_count": 110,
   "metadata": {},
   "outputs": [
    {
     "name": "stdout",
     "output_type": "stream",
     "text": [
      "_________________________________________________________________\n",
      "Layer (type)                 Output Shape              Param #   \n",
      "=================================================================\n",
      "conv2d_7 (Conv2D)            (None, 26, 26, 32)        320       \n",
      "_________________________________________________________________\n",
      "conv2d_8 (Conv2D)            (None, 24, 24, 32)        9248      \n",
      "_________________________________________________________________\n",
      "max_pooling2d_3 (MaxPooling2 (None, 12, 12, 32)        0         \n",
      "_________________________________________________________________\n",
      "dropout_5 (Dropout)          (None, 12, 12, 32)        0         \n",
      "_________________________________________________________________\n",
      "conv2d_9 (Conv2D)            (None, 12, 12, 64)        18496     \n",
      "_________________________________________________________________\n",
      "conv2d_10 (Conv2D)           (None, 12, 12, 64)        36928     \n",
      "_________________________________________________________________\n",
      "max_pooling2d_4 (MaxPooling2 (None, 6, 6, 64)          0         \n",
      "_________________________________________________________________\n",
      "dropout_6 (Dropout)          (None, 6, 6, 64)          0         \n",
      "_________________________________________________________________\n",
      "conv2d_11 (Conv2D)           (None, 6, 6, 128)         73856     \n",
      "_________________________________________________________________\n",
      "dropout_7 (Dropout)          (None, 6, 6, 128)         0         \n",
      "_________________________________________________________________\n",
      "flatten_2 (Flatten)          (None, 4608)              0         \n",
      "_________________________________________________________________\n",
      "dense_3 (Dense)              (None, 128)               589952    \n",
      "_________________________________________________________________\n",
      "batch_normalization_2 (Batch (None, 128)               512       \n",
      "_________________________________________________________________\n",
      "dropout_8 (Dropout)          (None, 128)               0         \n",
      "_________________________________________________________________\n",
      "dense_4 (Dense)              (None, 10)                1290      \n",
      "=================================================================\n",
      "Total params: 730,602\n",
      "Trainable params: 730,346\n",
      "Non-trainable params: 256\n",
      "_________________________________________________________________\n",
      "Wall time: 1.29 s\n"
     ]
    }
   ],
   "source": [
    "%%time\n",
    "### CNN ###\n",
    "cnn_model = Sequential()\n",
    "\n",
    "cnn_model.add(\n",
    "    Conv2D(\n",
    "        filters=N_FILTERS_1, \n",
    "        kernel_size=KERNEL_SIZE_CONV, \n",
    "        activation=RELU, \n",
    "        kernel_initializer=KERNEL_INIT, \n",
    "        input_shape=INPUT_SHAPE\n",
    "    )\n",
    ")\n",
    "cnn_model.add(\n",
    "    Conv2D(\n",
    "        filters=N_FILTERS_1,\n",
    "        kernel_size=KERNEL_SIZE_CONV,\n",
    "        activation=RELU,\n",
    "        kernel_initializer=KERNEL_INIT\n",
    "    )\n",
    ")\n",
    "cnn_model.add(\n",
    "    MaxPool2D(\n",
    "        pool_size=POOL_SIZE\n",
    "    )\n",
    ")\n",
    "cnn_model.add(\n",
    "    Dropout(rate=DROPOUT_1)\n",
    ")\n",
    "cnn_model.add(\n",
    "    Conv2D(\n",
    "        filters=N_FILTERS_2, \n",
    "        kernel_size=KERNEL_SIZE_CONV, \n",
    "        padding=PADDING_SAME, \n",
    "        activation=RELU, \n",
    "        kernel_initializer=KERNEL_INIT\n",
    "    )\n",
    ")\n",
    "cnn_model.add(\n",
    "    Conv2D(\n",
    "        filters=N_FILTERS_2,\n",
    "        kernel_size=KERNEL_SIZE_CONV,\n",
    "        padding=PADDING_SAME,\n",
    "        activation=RELU,\n",
    "        kernel_initializer=KERNEL_INIT\n",
    "    )\n",
    ")\n",
    "cnn_model.add(\n",
    "    MaxPool2D(\n",
    "        pool_size=POOL_SIZE\n",
    "    )\n",
    ")\n",
    "cnn_model.add(\n",
    "    Dropout(\n",
    "        rate=DROPOUT_2\n",
    "    )\n",
    ")\n",
    "cnn_model.add(\n",
    "    Conv2D(\n",
    "        filters=N_FILTERS_3, \n",
    "        kernel_size=KERNEL_SIZE_CONV, \n",
    "        padding=PADDING_SAME, \n",
    "        activation=RELU, \n",
    "        kernel_initializer=KERNEL_INIT\n",
    "    )\n",
    ")\n",
    "cnn_model.add(\n",
    "    Dropout(\n",
    "        rate=DROPOUT_2\n",
    "    )\n",
    ")\n",
    "cnn_model.add(\n",
    "    Flatten()\n",
    ")\n",
    "cnn_model.add(\n",
    "    Dense(\n",
    "        units=N_DENSE, \n",
    "        activation=RELU\n",
    "    )\n",
    ")\n",
    "cnn_model.add(\n",
    "    BatchNormalization()\n",
    ")\n",
    "cnn_model.add(\n",
    "    Dropout(\n",
    "        rate=DROPOUT_2\n",
    "    )\n",
    ")\n",
    "cnn_model.add(\n",
    "    Dense(\n",
    "        units=N_CLASSES, \n",
    "        activation=SOFTMAX\n",
    "    )\n",
    ")\n",
    "\n",
    "cnn_model.compile(\n",
    "    optimizer=Adam(), \n",
    "    loss=categorical_crossentropy, \n",
    "    metrics=['accuracy']\n",
    ")\n",
    "\n",
    "cnn_model.summary()"
   ]
  },
  {
   "cell_type": "code",
   "execution_count": 112,
   "metadata": {},
   "outputs": [
    {
     "name": "stdout",
     "output_type": "stream",
     "text": [
      "WARNING:tensorflow:From C:\\Users\\yongchaotommy\\AppData\\Local\\Continuum\\anaconda3\\envs\\cssctest\\lib\\site-packages\\tensorflow\\python\\ops\\math_ops.py:3066: to_int32 (from tensorflow.python.ops.math_ops) is deprecated and will be removed in a future version.\n",
      "Instructions for updating:\n",
      "Use tf.cast instead.\n",
      "Epoch 1/20\n",
      "42000/42000 [==============================] - 137s 3ms/step - loss: 0.1947 - acc: 0.9386\n",
      "Epoch 2/20\n",
      "42000/42000 [==============================] - 125s 3ms/step - loss: 0.0627 - acc: 0.9803\n",
      "Epoch 3/20\n",
      "42000/42000 [==============================] - 99s 2ms/step - loss: 0.0466 - acc: 0.9852\n",
      "Epoch 4/20\n",
      "42000/42000 [==============================] - 99s 2ms/step - loss: 0.0404 - acc: 0.9872\n",
      "Epoch 5/20\n",
      "42000/42000 [==============================] - 103s 2ms/step - loss: 0.0339 - acc: 0.9895\n",
      "Epoch 6/20\n",
      "42000/42000 [==============================] - 109s 3ms/step - loss: 0.0312 - acc: 0.9900\n",
      "Epoch 7/20\n",
      "42000/42000 [==============================] - 108s 3ms/step - loss: 0.0284 - acc: 0.9906\n",
      "Epoch 8/20\n",
      "42000/42000 [==============================] - 110s 3ms/step - loss: 0.0249 - acc: 0.9917\n",
      "Epoch 9/20\n",
      "42000/42000 [==============================] - 111s 3ms/step - loss: 0.0222 - acc: 0.9929\n",
      "Epoch 10/20\n",
      "42000/42000 [==============================] - 110s 3ms/step - loss: 0.0209 - acc: 0.9931\n",
      "Epoch 11/20\n",
      "42000/42000 [==============================] - 109s 3ms/step - loss: 0.0209 - acc: 0.9934\n",
      "Epoch 12/20\n",
      "42000/42000 [==============================] - 110s 3ms/step - loss: 0.0166 - acc: 0.9947\n",
      "Epoch 13/20\n",
      "42000/42000 [==============================] - 109s 3ms/step - loss: 0.0170 - acc: 0.9943\n",
      "Epoch 14/20\n",
      "42000/42000 [==============================] - 109s 3ms/step - loss: 0.0135 - acc: 0.9955\n",
      "Epoch 15/20\n",
      "42000/42000 [==============================] - 108s 3ms/step - loss: 0.0140 - acc: 0.9956\n",
      "Epoch 16/20\n",
      "42000/42000 [==============================] - 114s 3ms/step - loss: 0.0136 - acc: 0.9955\n",
      "Epoch 17/20\n",
      "42000/42000 [==============================] - 111s 3ms/step - loss: 0.0130 - acc: 0.9957 1s - loss: 0.0129 - \n",
      "Epoch 18/20\n",
      "42000/42000 [==============================] - 110s 3ms/step - loss: 0.0127 - acc: 0.9956\n",
      "Epoch 19/20\n",
      "42000/42000 [==============================] - 112s 3ms/step - loss: 0.0114 - acc: 0.9962\n",
      "Epoch 20/20\n",
      "42000/42000 [==============================] - 111s 3ms/step - loss: 0.0100 - acc: 0.9968\n",
      "Wall time: 36min 55s\n"
     ]
    },
    {
     "data": {
      "text/plain": [
       "<keras.callbacks.History at 0x16180449b70>"
      ]
     },
     "execution_count": 112,
     "metadata": {},
     "output_type": "execute_result"
    }
   ],
   "source": [
    "%%time\n",
    "cnn_model.fit(x=X_train_cnn, y=Y_train_cnn, batch_size=BATCH_SIZE, epochs=N_EPOCHS)"
   ]
  },
  {
   "cell_type": "code",
   "execution_count": 121,
   "metadata": {},
   "outputs": [
    {
     "name": "stdout",
     "output_type": "stream",
     "text": [
      "Wall time: 23.4 s\n"
     ]
    },
    {
     "data": {
      "text/plain": [
       "array([2, 0, 9, ..., 3, 9, 2], dtype=int64)"
      ]
     },
     "execution_count": 121,
     "metadata": {},
     "output_type": "execute_result"
    }
   ],
   "source": [
    "%%time\n",
    "predict_save(estimator=cnn_model, X=X_test_cnn)"
   ]
  },
  {
   "cell_type": "code",
   "execution_count": 124,
   "metadata": {},
   "outputs": [
    {
     "name": "stdout",
     "output_type": "stream",
     "text": [
      "Wall time: 400 ms\n"
     ]
    }
   ],
   "source": [
    "%%time\n",
    "cnn_model.save('data/cnn_model_v0_1.h5')"
   ]
  },
  {
   "cell_type": "markdown",
   "metadata": {},
   "source": [
    "## Side Analysis <a id='sideanalysis'>\n",
    "[Back to top](#toc)"
   ]
  },
  {
   "cell_type": "code",
   "execution_count": 62,
   "metadata": {},
   "outputs": [
    {
     "name": "stdout",
     "output_type": "stream",
     "text": [
      "Training Data & Outcome\n"
     ]
    },
    {
     "data": {
      "image/png": "[encoded data removed]",
      "text/plain": [
       "<Figure size 360x432 with 9 Axes>"
      ]
     },
     "metadata": {
      "needs_background": "light"
     },
     "output_type": "display_data"
    },
    {
     "name": "stdout",
     "output_type": "stream",
     "text": [
      "Wall time: 13.4 s\n"
     ]
    }
   ],
   "source": [
    "%%time\n",
    "### Training Data Outcome ###\n",
    "Y_train_pred = rfc.predict(X_train)\n",
    "\n",
    "print('Training Data & Outcome')\n",
    "fig, axes = plt.subplots(3, 3, figsize=(5, 6))\n",
    "\n",
    "for i, axis in enumerate(axes.flat):\n",
    "    axis.imshow(X_train.iloc[i].values.reshape(IMAGE_N_DIMS, IMAGE_N_DIMS), cmap=CMAP_BIN)\n",
    "    axis.set_title('Predicted {}\\nActual {}'.format(Y_train_pred[i], Y_train[i]))\n",
    "fig.tight_layout()\n",
    "plt.show()"
   ]
  },
  {
   "cell_type": "code",
   "execution_count": 63,
   "metadata": {},
   "outputs": [
    {
     "name": "stdout",
     "output_type": "stream",
     "text": [
      "Testing Data & Outcome\n"
     ]
    },
    {
     "data": {
      "image/png": "[encoded data removed]",
      "text/plain": [
       "<Figure size 360x432 with 9 Axes>"
      ]
     },
     "metadata": {
      "needs_background": "light"
     },
     "output_type": "display_data"
    },
    {
     "name": "stdout",
     "output_type": "stream",
     "text": [
      "Wall time: 2.5 s\n"
     ]
    }
   ],
   "source": [
    "%%time\n",
    "### Testing Data Outcome ###\n",
    "print('Testing Data & Outcome')\n",
    "fig, axes = plt.subplots(3, 3, figsize=(5, 6))\n",
    "\n",
    "for i, axis in enumerate(axes.flat):\n",
    "    axis.imshow(X_test.iloc[i].values.reshape(IMAGE_N_DIMS, IMAGE_N_DIMS), cmap=CMAP_BIN)\n",
    "    axis.set_title('Predicted {}'.format(Y_pred[i]))\n",
    "fig.tight_layout()\n",
    "plt.show()"
   ]
  },
  {
   "cell_type": "code",
   "execution_count": null,
   "metadata": {},
   "outputs": [],
   "source": []
  }
 ],
 "metadata": {
  "kernelspec": {
   "display_name": "Python 3",
   "language": "python",
   "name": "python3"
  },
  "language_info": {
   "codemirror_mode": {
    "name": "ipython",
    "version": 3
   },
   "file_extension": ".py",
   "mimetype": "text/x-python",
   "name": "python",
   "nbconvert_exporter": "python",
   "pygments_lexer": "ipython3",
   "version": "3.7.4"
  }
 },
 "nbformat": 4,
 "nbformat_minor": 2
}
